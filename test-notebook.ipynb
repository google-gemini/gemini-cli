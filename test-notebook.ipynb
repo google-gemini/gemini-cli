{
 "cells": [
  {
   "cell_type": "code",
   "execution_count": null,
   "id": "71526f7a",
   "metadata": {},
   "outputs": [],
   "source": [
    "print('Hello from test notebook!')"
   ]
  }
 ],
 "metadata": {
  "language_info": {
   "name": "python"
  }
 },
 "nbformat": 4,
 "nbformat_minor": 5
}
